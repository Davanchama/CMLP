{
 "cells": [
  {
   "cell_type": "code",
   "execution_count": 1,
   "metadata": {},
   "outputs": [
    {
     "name": "stdout",
     "output_type": "stream",
     "text": [
      "-220755040\n",
      "<ctypes.wintypes.LP_c_float object at 0x000001DBF7F83C40>\n"
     ]
    },
    {
     "ename": "OSError",
     "evalue": "exception: access violation reading 0xFFFFFFFFF2D78B9F",
     "output_type": "error",
     "traceback": [
      "\u001b[1;31m---------------------------------------------------------------------------\u001b[0m",
      "\u001b[1;31mOSError\u001b[0m                                   Traceback (most recent call last)",
      "Input \u001b[1;32mIn [1]\u001b[0m, in \u001b[0;36m<cell line: 39>\u001b[1;34m()\u001b[0m\n\u001b[0;32m     36\u001b[0m \u001b[38;5;28mprint\u001b[39m(pointer_float_input_array)\n\u001b[0;32m     38\u001b[0m \u001b[38;5;66;03m# Call the forward function\u001b[39;00m\n\u001b[1;32m---> 39\u001b[0m \u001b[43mlib\u001b[49m\u001b[38;5;241;43m.\u001b[39;49m\u001b[43mdeleteMLPWrapper\u001b[49m\u001b[43m(\u001b[49m\u001b[43mpointer_MLPWrapper\u001b[49m\u001b[43m)\u001b[49m\n",
      "\u001b[1;31mOSError\u001b[0m: exception: access violation reading 0xFFFFFFFFF2D78B9F"
     ]
    }
   ],
   "source": [
    "import ctypes\n",
    "from ctypes import *    \n",
    "\n",
    "# Load the shared library\n",
    "lib = ctypes.cdll.LoadLibrary('.../libcmlp.dll')\n",
    " \n",
    "\n",
    "lib.createMLPWrapper.restypes = ctypes.c_void_p\n",
    "#lib.createMLPWrapper.argtypes = [POINTER(POINTER(POINTER(c_float))), POINTER(c_char_p), c_int, POINTER(c_int), POINTER(c_int)]\n",
    "lib.createMLPWrapper.argtypes = [POINTER(POINTER(POINTER(c_float))), c_int]\n",
    "\n",
    "\n",
    "lib.deleteMLPWrapper.argtypes = [ctypes.c_void_p]\n",
    "\n",
    "\"\"\"lib.forward.argtypes = [c_void_p, POINTER(c_float)]\n",
    "lib.forward.restype = POINTER(c_float)\"\"\"\n",
    "\n",
    "# Create a nested array of floats\n",
    "data = (((c_float * 2) * 2) * 1)()\n",
    "data[0][0][0] = 1.0\n",
    "data[0][0][1] = 1.0\n",
    "data[0][1][0] = 1.0\n",
    "data[0][1][1] = 1.0\n",
    "\n",
    "input_data = (c_float * 2)(5., 7.)\n",
    "\n",
    "numRows = (c_int * 1)(2)\n",
    "numCols = (c_int * 1)(2)\n",
    "\n",
    "# Get a pointer to the 3D array\n",
    "pointer_float_array = ctypes.cast(ctypes.addressof(data), POINTER(POINTER(POINTER(c_float))))\n",
    "pointer_float_input_array = ctypes.cast(ctypes.addressof(input_data), POINTER(c_float))\n",
    "\n",
    "# Call the function with the pointer to the 3D array\n",
    "pointer_MLPWrapper = lib.createMLPWrapper(pointer_float_array, 1)\n",
    "\n",
    "print(pointer_MLPWrapper)\n",
    "print(pointer_float_input_array)\n",
    "\n",
    "# Call the forward function\n",
    "lib.deleteMLPWrapper(pointer_MLPWrapper)\n",
    "#output_pointer = lib.forward(pointer_MLPWrapper, pointer_float_input_array)"
   ]
  },
  {
   "cell_type": "code",
   "execution_count": 11,
   "metadata": {},
   "outputs": [],
   "source": [
    "import ctypes"
   ]
  },
  {
   "cell_type": "code",
   "execution_count": 2,
   "metadata": {},
   "outputs": [
    {
     "data": {
      "text/plain": [
       "1"
      ]
     },
     "execution_count": 2,
     "metadata": {},
     "output_type": "execute_result"
    }
   ],
   "source": [
    "# test old version of library, can ignore\n",
    "import ctypes\n",
    "\n",
    "# Load the shared library\n",
    "lib = ctypes.cdll.LoadLibrary('.../libcmlp.dll')\n",
    "\n",
    "# Define the return type and argument types of the create_library function\n",
    "lib.createMLPWrapper.restype = ctypes.c_void_p\n",
    "lib.createMLPWrapper.argtypes = [ctypes.c_int]\n",
    "\n",
    "lib.deleteMLPWrapper.argtypes = [ctypes.c_void_p]\n",
    "\n",
    "# Call the create_library function to create a new Library object\n",
    "library_ptr = lib.createMLPWrapper(12)\n",
    "\n",
    "# Call the delete_library function to delete the Library object\n",
    "lib.deleteMLPWrapper(library_ptr)"
   ]
  },
  {
   "cell_type": "code",
   "execution_count": 11,
   "metadata": {},
   "outputs": [],
   "source": []
  },
  {
   "cell_type": "code",
   "execution_count": null,
   "metadata": {},
   "outputs": [],
   "source": []
  },
  {
   "cell_type": "code",
   "execution_count": null,
   "metadata": {},
   "outputs": [],
   "source": []
  },
  {
   "cell_type": "code",
   "execution_count": null,
   "metadata": {},
   "outputs": [],
   "source": []
  }
 ],
 "metadata": {
  "kernelspec": {
   "display_name": "Python 3 (ipykernel)",
   "language": "python",
   "name": "python3"
  },
  "language_info": {
   "codemirror_mode": {
    "name": "ipython",
    "version": 3
   },
   "file_extension": ".py",
   "mimetype": "text/x-python",
   "name": "python",
   "nbconvert_exporter": "python",
   "pygments_lexer": "ipython3",
   "version": "3.9.12"
  }
 },
 "nbformat": 4,
 "nbformat_minor": 2
}
